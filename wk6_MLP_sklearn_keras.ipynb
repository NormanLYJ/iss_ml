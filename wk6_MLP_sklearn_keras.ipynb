{
 "cells": [
  {
   "cell_type": "markdown",
   "metadata": {},
   "source": [
    "## MLP using Sklearn"
   ]
  },
  {
   "cell_type": "code",
   "execution_count": 25,
   "metadata": {},
   "outputs": [
    {
     "name": "stdout",
     "output_type": "stream",
     "text": [
      "Requirement already satisfied: keras in /Users/yuejunli/opt/anaconda3/lib/python3.7/site-packages (2.4.3)\n",
      "Requirement already satisfied: pyyaml in /Users/yuejunli/opt/anaconda3/lib/python3.7/site-packages (from keras) (5.3)\n",
      "Requirement already satisfied: h5py in /Users/yuejunli/opt/anaconda3/lib/python3.7/site-packages (from keras) (2.10.0)\n",
      "Requirement already satisfied: scipy>=0.14 in /Users/yuejunli/opt/anaconda3/lib/python3.7/site-packages (from keras) (1.4.1)\n",
      "Requirement already satisfied: numpy>=1.9.1 in /Users/yuejunli/opt/anaconda3/lib/python3.7/site-packages (from keras) (1.18.1)\n",
      "Requirement already satisfied: six in /Users/yuejunli/opt/anaconda3/lib/python3.7/site-packages (from h5py->keras) (1.14.0)\n"
     ]
    }
   ],
   "source": [
    "# ! pip install neupy"
   ]
  },
  {
   "cell_type": "code",
   "execution_count": 5,
   "metadata": {},
   "outputs": [],
   "source": [
    "from sklearn.preprocessing import StandardScaler\n",
    "from sklearn import metrics \n",
    "from sklearn.metrics import classification_report, confusion_matrix \n",
    "from sklearn.model_selection import train_test_split\n",
    "import numpy\n"
   ]
  },
  {
   "cell_type": "code",
   "execution_count": 4,
   "metadata": {},
   "outputs": [],
   "source": [
    "# fix random seed for reproducibility\n",
    "seed = 7\n",
    "numpy.random.seed(seed)"
   ]
  },
  {
   "cell_type": "code",
   "execution_count": 6,
   "metadata": {},
   "outputs": [],
   "source": [
    "# load pima indians dataset\n",
    "dataset = numpy.loadtxt(\"data/pima-indians-diabetes.csv\", delimiter=\",\")\n",
    "# split into input (X) and output (Y) variables\n",
    "X = dataset[:,0:8]\n",
    "y = dataset[:,8]"
   ]
  },
  {
   "cell_type": "code",
   "execution_count": 7,
   "metadata": {},
   "outputs": [],
   "source": [
    "# train_test_split\n",
    "\n",
    "X_train,X_test,y_train,y_test = train_test_split(X,y,test_size=1/3,random_state=42, stratify=y)"
   ]
  },
  {
   "cell_type": "code",
   "execution_count": 8,
   "metadata": {},
   "outputs": [],
   "source": [
    "#Normalization\n",
    "\n",
    "scaler = StandardScaler()  \n",
    "scaler.fit(X_train)\n",
    "\n",
    "X_train = scaler.transform(X_train)  \n",
    "X_test = scaler.transform(X_test)  "
   ]
  },
  {
   "cell_type": "markdown",
   "metadata": {},
   "source": [
    "### sgd and lbfgs does not seem to converge successfully for 2000 epoch"
   ]
  },
  {
   "cell_type": "code",
   "execution_count": null,
   "metadata": {},
   "outputs": [],
   "source": [
    "from sklearn.neural_network import MLPClassifier  \n",
    "mlp = MLPClassifier(hidden_layer_sizes=(10,10), activation='logistic', max_iter=2000, solver='adam', verbose=2)  \n",
    "mlp.fit(X_train, y_train)  "
   ]
  },
  {
   "cell_type": "code",
   "execution_count": 18,
   "metadata": {},
   "outputs": [
    {
     "name": "stdout",
     "output_type": "stream",
     "text": [
      "Accuracy 0.74609375\n",
      "[[138  29]\n",
      " [ 36  53]]\n",
      "              precision    recall  f1-score   support\n",
      "\n",
      "         0.0       0.79      0.83      0.81       167\n",
      "         1.0       0.65      0.60      0.62        89\n",
      "\n",
      "    accuracy                           0.75       256\n",
      "   macro avg       0.72      0.71      0.71       256\n",
      "weighted avg       0.74      0.75      0.74       256\n",
      "\n"
     ]
    }
   ],
   "source": [
    "predictions = mlp.predict(X_test)  \n",
    "\n",
    "\n",
    "print(\"Accuracy\", metrics.accuracy_score(y_test, predictions))\n",
    "print(confusion_matrix(y_test,predictions))  \n",
    "print(classification_report(y_test,predictions))  "
   ]
  },
  {
   "cell_type": "code",
   "execution_count": 12,
   "metadata": {},
   "outputs": [
    {
     "data": {
      "image/png": "[encoded data removed]",
      "text/plain": [
       "<Figure size 432x288 with 1 Axes>"
      ]
     },
     "metadata": {
      "needs_background": "light"
     },
     "output_type": "display_data"
    }
   ],
   "source": [
    "import matplotlib.pyplot as plt\n",
    "%matplotlib inline\n",
    "\n",
    "plt.plot(mlp.loss_curve_)\n",
    "plt.title(\"NN Loss Curve\")\n",
    "plt.xlabel(\"number of steps\")\n",
    "plt.ylabel(\"loss function\")\n",
    "plt.show()"
   ]
  },
  {
   "cell_type": "code",
   "execution_count": 19,
   "metadata": {},
   "outputs": [
    {
     "data": {
      "text/plain": [
       "array([ 0.0057607 ,  0.13349997,  0.2129469 ,  0.09009583,  0.09825845,\n",
       "        0.16090888,  0.25996614, -0.23334645, -0.24213752,  0.21700685])"
      ]
     },
     "execution_count": 19,
     "metadata": {},
     "output_type": "execute_result"
    }
   ],
   "source": [
    "mlp.intercepts_[0]"
   ]
  },
  {
   "cell_type": "code",
   "execution_count": 20,
   "metadata": {},
   "outputs": [
    {
     "data": {
      "text/plain": [
       "array([[ 0.15661045, -0.35288451, -0.16385021, -0.32570933,  0.61029932,\n",
       "        -0.47064291,  0.34854302,  0.36759701,  0.52923893, -0.65198392],\n",
       "       [ 0.66329843, -0.89976152, -0.93081936, -0.78941145,  0.69339974,\n",
       "        -0.89887192,  0.95634998,  1.26409705,  0.87669653, -0.88266337],\n",
       "       [-0.07183837,  0.14071409,  0.21144308, -0.00489838, -0.25277276,\n",
       "         0.42336574, -0.29081769, -0.3803609 , -0.23241369, -0.06056518],\n",
       "       [-0.09533688,  0.13839994,  0.26327683,  0.10111665, -0.06469944,\n",
       "         0.46128029, -0.17397851, -0.34878485, -0.06016014,  0.23886148],\n",
       "       [-0.00838809, -0.05854288, -0.15300625, -0.00491911,  0.2809478 ,\n",
       "        -0.15832559, -0.15462667, -0.01896173,  0.03674184, -0.40882336],\n",
       "       [ 0.72061104, -0.61653864, -0.86176496, -0.47806024,  0.60324264,\n",
       "        -1.12574646,  0.32967111,  0.91595105,  1.02377236, -0.70129917],\n",
       "       [ 0.50453594, -0.366336  , -0.53931941, -0.18635378,  0.12909609,\n",
       "        -0.37220999,  0.30793918,  0.25165208,  0.44576768, -0.58173089],\n",
       "       [ 0.34351697, -0.07210499, -0.18451726, -0.22405085, -0.44274155,\n",
       "        -0.2909915 ,  0.6162428 ,  0.25268578, -0.25777368,  0.29145393]])"
      ]
     },
     "execution_count": 20,
     "metadata": {},
     "output_type": "execute_result"
    }
   ],
   "source": [
    "mlp.coefs_[0]"
   ]
  },
  {
   "cell_type": "code",
   "execution_count": null,
   "metadata": {},
   "outputs": [],
   "source": []
  },
  {
   "cell_type": "markdown",
   "metadata": {},
   "source": [
    "## MLP using keras"
   ]
  },
  {
   "cell_type": "markdown",
   "metadata": {},
   "source": [
    "### Keras is the most used deep learning framework among top-5 winning teams on Kaggle. Because Keras makes it easier to run new experiments, it empowers you to try more ideas than your competition, faster"
   ]
  },
  {
   "cell_type": "code",
   "execution_count": null,
   "metadata": {},
   "outputs": [],
   "source": [
    "# keras depends on tensorflow2\n",
    "# ! pip install tensorflow --upgrade #2.3\n",
    "# ! pip install keras --upgrade #2.4.3"
   ]
  },
  {
   "cell_type": "code",
   "execution_count": 32,
   "metadata": {},
   "outputs": [
    {
     "name": "stdout",
     "output_type": "stream",
     "text": [
      "Model: \"sequential_4\"\n",
      "_________________________________________________________________\n",
      "Layer (type)                 Output Shape              Param #   \n",
      "=================================================================\n",
      "dense_11 (Dense)             (None, 12)                108       \n",
      "_________________________________________________________________\n",
      "dense_12 (Dense)             (None, 8)                 104       \n",
      "_________________________________________________________________\n",
      "dropout_2 (Dropout)          (None, 8)                 0         \n",
      "_________________________________________________________________\n",
      "dense_13 (Dense)             (None, 1)                 9         \n",
      "=================================================================\n",
      "Total params: 221\n",
      "Trainable params: 221\n",
      "Non-trainable params: 0\n",
      "_________________________________________________________________\n",
      "None\n"
     ]
    }
   ],
   "source": [
    "from keras.models import Sequential\n",
    "from keras.layers import Dense\n",
    "from keras.layers import Dropout\n",
    "\n",
    "\n",
    "# create keras model\n",
    "model = Sequential()\n",
    "model.add(Dense(12, input_dim=8, kernel_initializer='uniform', activation='relu'))\n",
    "model.add(Dense(8, kernel_initializer='uniform', activation='relu'))\n",
    "\n",
    "# trying with Dropout\n",
    "model.add(Dropout(0.2))\n",
    "\n",
    "# trying with softmax, but does not seem to work, why???\n",
    "# model.add(Dense(1, kernel_initializer='uniform', activation='softmax'))\n",
    "\n",
    "model.add(Dense(1, kernel_initializer='uniform', activation='sigmoid'))\n",
    "\n",
    "print(model.summary())"
   ]
  },
  {
   "cell_type": "code",
   "execution_count": 33,
   "metadata": {},
   "outputs": [
    {
     "data": {
      "image/png": "[encoded data removed]",
      "text/plain": [
       "<IPython.core.display.Image object>"
      ]
     },
     "execution_count": 33,
     "metadata": {},
     "output_type": "execute_result"
    }
   ],
   "source": [
    "#conda install pydot pydotplus\n",
    "\n",
    "from keras.utils import plot_model\n",
    "import IPython\n",
    "plot_model(model, to_file='model.png',show_shapes=True)\n",
    "IPython.display.Image(\"model.png\")"
   ]
  },
  {
   "cell_type": "code",
   "execution_count": 34,
   "metadata": {},
   "outputs": [
    {
     "name": "stdout",
     "output_type": "stream",
     "text": [
      "Epoch 1/80\n",
      "72/72 [==============================] - 0s 2ms/step - loss: 0.6885 - accuracy: 0.6480 - val_loss: 0.6835 - val_accuracy: 0.6299\n",
      "Epoch 2/80\n",
      "72/72 [==============================] - 0s 1ms/step - loss: 0.6633 - accuracy: 0.6592 - val_loss: 0.6407 - val_accuracy: 0.6299\n",
      "Epoch 3/80\n",
      "72/72 [==============================] - 0s 1ms/step - loss: 0.5957 - accuracy: 0.6704 - val_loss: 0.5699 - val_accuracy: 0.6558\n",
      "Epoch 4/80\n",
      "72/72 [==============================] - 0s 1ms/step - loss: 0.5276 - accuracy: 0.7346 - val_loss: 0.5302 - val_accuracy: 0.7662\n",
      "Epoch 5/80\n",
      "72/72 [==============================] - 0s 1ms/step - loss: 0.5080 - accuracy: 0.7737 - val_loss: 0.5045 - val_accuracy: 0.7662\n",
      "Epoch 6/80\n",
      "72/72 [==============================] - 0s 1ms/step - loss: 0.4988 - accuracy: 0.7793 - val_loss: 0.4881 - val_accuracy: 0.7662\n",
      "Epoch 7/80\n",
      "72/72 [==============================] - 0s 1ms/step - loss: 0.4994 - accuracy: 0.7849 - val_loss: 0.4828 - val_accuracy: 0.7597\n",
      "Epoch 8/80\n",
      "72/72 [==============================] - 0s 1ms/step - loss: 0.4750 - accuracy: 0.7849 - val_loss: 0.4752 - val_accuracy: 0.7727\n",
      "Epoch 9/80\n",
      "72/72 [==============================] - 0s 1ms/step - loss: 0.4921 - accuracy: 0.7793 - val_loss: 0.4723 - val_accuracy: 0.7662\n",
      "Epoch 10/80\n",
      "72/72 [==============================] - 0s 1ms/step - loss: 0.4647 - accuracy: 0.7793 - val_loss: 0.4680 - val_accuracy: 0.7792\n",
      "Epoch 11/80\n",
      "72/72 [==============================] - 0s 1ms/step - loss: 0.4773 - accuracy: 0.7877 - val_loss: 0.4661 - val_accuracy: 0.7792\n",
      "Epoch 12/80\n",
      "72/72 [==============================] - 0s 1ms/step - loss: 0.4843 - accuracy: 0.7877 - val_loss: 0.4650 - val_accuracy: 0.7727\n",
      "Epoch 13/80\n",
      "72/72 [==============================] - 0s 1ms/step - loss: 0.4748 - accuracy: 0.7849 - val_loss: 0.4644 - val_accuracy: 0.7727\n",
      "Epoch 14/80\n",
      "72/72 [==============================] - 0s 1ms/step - loss: 0.4761 - accuracy: 0.7821 - val_loss: 0.4632 - val_accuracy: 0.7857\n",
      "Epoch 15/80\n",
      "72/72 [==============================] - 0s 1ms/step - loss: 0.4729 - accuracy: 0.7709 - val_loss: 0.4620 - val_accuracy: 0.7922\n",
      "Epoch 16/80\n",
      "72/72 [==============================] - 0s 1ms/step - loss: 0.4777 - accuracy: 0.7765 - val_loss: 0.4628 - val_accuracy: 0.7922\n",
      "Epoch 17/80\n",
      "72/72 [==============================] - 0s 1ms/step - loss: 0.4649 - accuracy: 0.7905 - val_loss: 0.4605 - val_accuracy: 0.7857\n",
      "Epoch 18/80\n",
      "72/72 [==============================] - 0s 1ms/step - loss: 0.4689 - accuracy: 0.7849 - val_loss: 0.4601 - val_accuracy: 0.7922\n",
      "Epoch 19/80\n",
      "72/72 [==============================] - 0s 1ms/step - loss: 0.4733 - accuracy: 0.7793 - val_loss: 0.4616 - val_accuracy: 0.7987\n",
      "Epoch 20/80\n",
      "72/72 [==============================] - 0s 1ms/step - loss: 0.4699 - accuracy: 0.7765 - val_loss: 0.4643 - val_accuracy: 0.7922\n",
      "Epoch 21/80\n",
      "72/72 [==============================] - 0s 1ms/step - loss: 0.4722 - accuracy: 0.7821 - val_loss: 0.4613 - val_accuracy: 0.7987\n",
      "Epoch 22/80\n",
      "72/72 [==============================] - 0s 1ms/step - loss: 0.4766 - accuracy: 0.7793 - val_loss: 0.4602 - val_accuracy: 0.8052\n",
      "Epoch 23/80\n",
      "72/72 [==============================] - 0s 1ms/step - loss: 0.4705 - accuracy: 0.7765 - val_loss: 0.4583 - val_accuracy: 0.7987\n",
      "Epoch 24/80\n",
      "72/72 [==============================] - 0s 1ms/step - loss: 0.4559 - accuracy: 0.7877 - val_loss: 0.4597 - val_accuracy: 0.7987\n",
      "Epoch 25/80\n",
      "72/72 [==============================] - 0s 1ms/step - loss: 0.4540 - accuracy: 0.7709 - val_loss: 0.4587 - val_accuracy: 0.8052\n",
      "Epoch 26/80\n",
      "72/72 [==============================] - 0s 1ms/step - loss: 0.4656 - accuracy: 0.7961 - val_loss: 0.4564 - val_accuracy: 0.7987\n",
      "Epoch 27/80\n",
      "72/72 [==============================] - 0s 1ms/step - loss: 0.4650 - accuracy: 0.7709 - val_loss: 0.4572 - val_accuracy: 0.8052\n",
      "Epoch 28/80\n",
      "72/72 [==============================] - 0s 1ms/step - loss: 0.4543 - accuracy: 0.7793 - val_loss: 0.4590 - val_accuracy: 0.8052\n",
      "Epoch 29/80\n",
      "72/72 [==============================] - 0s 2ms/step - loss: 0.4807 - accuracy: 0.7598 - val_loss: 0.4584 - val_accuracy: 0.8052\n",
      "Epoch 30/80\n",
      "72/72 [==============================] - 0s 1ms/step - loss: 0.4597 - accuracy: 0.7849 - val_loss: 0.4610 - val_accuracy: 0.7987\n",
      "Epoch 31/80\n",
      "72/72 [==============================] - 0s 1ms/step - loss: 0.4550 - accuracy: 0.7793 - val_loss: 0.4594 - val_accuracy: 0.7987\n",
      "Epoch 32/80\n",
      "72/72 [==============================] - 0s 1ms/step - loss: 0.4548 - accuracy: 0.7849 - val_loss: 0.4594 - val_accuracy: 0.8052\n",
      "Epoch 33/80\n",
      "72/72 [==============================] - 0s 1ms/step - loss: 0.4652 - accuracy: 0.7765 - val_loss: 0.4591 - val_accuracy: 0.8052\n",
      "Epoch 34/80\n",
      "72/72 [==============================] - 0s 1ms/step - loss: 0.4561 - accuracy: 0.7849 - val_loss: 0.4632 - val_accuracy: 0.8052\n",
      "Epoch 35/80\n",
      "72/72 [==============================] - 0s 1ms/step - loss: 0.4552 - accuracy: 0.7821 - val_loss: 0.4623 - val_accuracy: 0.8052\n",
      "Epoch 36/80\n",
      "72/72 [==============================] - 0s 1ms/step - loss: 0.4551 - accuracy: 0.7821 - val_loss: 0.4616 - val_accuracy: 0.8052\n",
      "Epoch 37/80\n",
      "72/72 [==============================] - 0s 1ms/step - loss: 0.4691 - accuracy: 0.7737 - val_loss: 0.4642 - val_accuracy: 0.7987\n",
      "Epoch 38/80\n",
      "72/72 [==============================] - 0s 1ms/step - loss: 0.4610 - accuracy: 0.7793 - val_loss: 0.4615 - val_accuracy: 0.7922\n",
      "Epoch 39/80\n",
      "72/72 [==============================] - 0s 1ms/step - loss: 0.4674 - accuracy: 0.7849 - val_loss: 0.4647 - val_accuracy: 0.8052\n",
      "Epoch 40/80\n",
      "72/72 [==============================] - 0s 1ms/step - loss: 0.4631 - accuracy: 0.7542 - val_loss: 0.4639 - val_accuracy: 0.7987\n",
      "Epoch 41/80\n",
      "72/72 [==============================] - 0s 1ms/step - loss: 0.4496 - accuracy: 0.7849 - val_loss: 0.4665 - val_accuracy: 0.7987\n",
      "Epoch 42/80\n",
      "72/72 [==============================] - 0s 1ms/step - loss: 0.4539 - accuracy: 0.7737 - val_loss: 0.4649 - val_accuracy: 0.7987\n",
      "Epoch 43/80\n",
      "72/72 [==============================] - 0s 1ms/step - loss: 0.4634 - accuracy: 0.7737 - val_loss: 0.4642 - val_accuracy: 0.7987\n",
      "Epoch 44/80\n",
      "72/72 [==============================] - 0s 1ms/step - loss: 0.4594 - accuracy: 0.7765 - val_loss: 0.4680 - val_accuracy: 0.7987\n",
      "Epoch 45/80\n",
      "72/72 [==============================] - 0s 1ms/step - loss: 0.4660 - accuracy: 0.7821 - val_loss: 0.4643 - val_accuracy: 0.7987\n",
      "Epoch 46/80\n",
      "72/72 [==============================] - 0s 1ms/step - loss: 0.4477 - accuracy: 0.8017 - val_loss: 0.4686 - val_accuracy: 0.7857\n",
      "Epoch 47/80\n",
      "72/72 [==============================] - 0s 1ms/step - loss: 0.4642 - accuracy: 0.7682 - val_loss: 0.4653 - val_accuracy: 0.7922\n",
      "Epoch 48/80\n",
      "72/72 [==============================] - 0s 1ms/step - loss: 0.4531 - accuracy: 0.7877 - val_loss: 0.4669 - val_accuracy: 0.7922\n",
      "Epoch 49/80\n",
      "72/72 [==============================] - 0s 1ms/step - loss: 0.4566 - accuracy: 0.7821 - val_loss: 0.4671 - val_accuracy: 0.7792\n",
      "Epoch 50/80\n",
      "72/72 [==============================] - 0s 1ms/step - loss: 0.4688 - accuracy: 0.7849 - val_loss: 0.4696 - val_accuracy: 0.7922\n",
      "Epoch 51/80\n",
      "72/72 [==============================] - 0s 1ms/step - loss: 0.4534 - accuracy: 0.7849 - val_loss: 0.4703 - val_accuracy: 0.7922\n",
      "Epoch 52/80\n",
      "72/72 [==============================] - 0s 1ms/step - loss: 0.4611 - accuracy: 0.7877 - val_loss: 0.4736 - val_accuracy: 0.7922\n",
      "Epoch 53/80\n",
      "72/72 [==============================] - 0s 1ms/step - loss: 0.4544 - accuracy: 0.7849 - val_loss: 0.4723 - val_accuracy: 0.7987\n",
      "Epoch 54/80\n",
      "72/72 [==============================] - 0s 1ms/step - loss: 0.4669 - accuracy: 0.7765 - val_loss: 0.4731 - val_accuracy: 0.7922\n",
      "Epoch 55/80\n",
      "72/72 [==============================] - 0s 1ms/step - loss: 0.4569 - accuracy: 0.7821 - val_loss: 0.4718 - val_accuracy: 0.7922\n",
      "Epoch 56/80\n",
      "72/72 [==============================] - 0s 1ms/step - loss: 0.4521 - accuracy: 0.7821 - val_loss: 0.4728 - val_accuracy: 0.7922\n",
      "Epoch 57/80\n",
      "72/72 [==============================] - 0s 1ms/step - loss: 0.4552 - accuracy: 0.7765 - val_loss: 0.4733 - val_accuracy: 0.7922\n",
      "Epoch 58/80\n",
      "72/72 [==============================] - 0s 1ms/step - loss: 0.4477 - accuracy: 0.7961 - val_loss: 0.4735 - val_accuracy: 0.7857\n",
      "Epoch 59/80\n",
      "72/72 [==============================] - 0s 1ms/step - loss: 0.4584 - accuracy: 0.7682 - val_loss: 0.4752 - val_accuracy: 0.7857\n",
      "Epoch 60/80\n",
      "72/72 [==============================] - 0s 1ms/step - loss: 0.4611 - accuracy: 0.7821 - val_loss: 0.4748 - val_accuracy: 0.7792\n",
      "Epoch 61/80\n",
      "72/72 [==============================] - 0s 1ms/step - loss: 0.4523 - accuracy: 0.7737 - val_loss: 0.4748 - val_accuracy: 0.7922\n",
      "Epoch 62/80\n",
      "72/72 [==============================] - 0s 1ms/step - loss: 0.4538 - accuracy: 0.7709 - val_loss: 0.4755 - val_accuracy: 0.7922\n",
      "Epoch 63/80\n",
      "72/72 [==============================] - 0s 1ms/step - loss: 0.4523 - accuracy: 0.7737 - val_loss: 0.4755 - val_accuracy: 0.7987\n",
      "Epoch 64/80\n",
      "72/72 [==============================] - 0s 1ms/step - loss: 0.4486 - accuracy: 0.7849 - val_loss: 0.4745 - val_accuracy: 0.7987\n",
      "Epoch 65/80\n",
      "72/72 [==============================] - 0s 1ms/step - loss: 0.4610 - accuracy: 0.7821 - val_loss: 0.4726 - val_accuracy: 0.7987\n",
      "Epoch 66/80\n",
      "72/72 [==============================] - 0s 1ms/step - loss: 0.4522 - accuracy: 0.7793 - val_loss: 0.4746 - val_accuracy: 0.7857\n",
      "Epoch 67/80\n",
      "72/72 [==============================] - 0s 1ms/step - loss: 0.4543 - accuracy: 0.7849 - val_loss: 0.4757 - val_accuracy: 0.7922\n",
      "Epoch 68/80\n",
      "72/72 [==============================] - 0s 1ms/step - loss: 0.4455 - accuracy: 0.7877 - val_loss: 0.4764 - val_accuracy: 0.7792\n",
      "Epoch 69/80\n",
      "72/72 [==============================] - 0s 1ms/step - loss: 0.4503 - accuracy: 0.7821 - val_loss: 0.4761 - val_accuracy: 0.7792\n",
      "Epoch 70/80\n",
      "72/72 [==============================] - 0s 1ms/step - loss: 0.4552 - accuracy: 0.7933 - val_loss: 0.4737 - val_accuracy: 0.7727\n",
      "Epoch 71/80\n",
      "72/72 [==============================] - 0s 1ms/step - loss: 0.4377 - accuracy: 0.7877 - val_loss: 0.4753 - val_accuracy: 0.7922\n",
      "Epoch 72/80\n",
      "72/72 [==============================] - 0s 1ms/step - loss: 0.4485 - accuracy: 0.7877 - val_loss: 0.4778 - val_accuracy: 0.7987\n",
      "Epoch 73/80\n",
      "72/72 [==============================] - 0s 1ms/step - loss: 0.4476 - accuracy: 0.7849 - val_loss: 0.4778 - val_accuracy: 0.7922\n",
      "Epoch 74/80\n",
      "72/72 [==============================] - 0s 1ms/step - loss: 0.4476 - accuracy: 0.7877 - val_loss: 0.4791 - val_accuracy: 0.7857\n",
      "Epoch 75/80\n",
      "72/72 [==============================] - 0s 1ms/step - loss: 0.4408 - accuracy: 0.7765 - val_loss: 0.4792 - val_accuracy: 0.7857\n",
      "Epoch 76/80\n",
      "72/72 [==============================] - 0s 1ms/step - loss: 0.4410 - accuracy: 0.7961 - val_loss: 0.4777 - val_accuracy: 0.7857\n",
      "Epoch 77/80\n",
      "72/72 [==============================] - 0s 1ms/step - loss: 0.4538 - accuracy: 0.7821 - val_loss: 0.4754 - val_accuracy: 0.7857\n",
      "Epoch 78/80\n",
      "72/72 [==============================] - 0s 1ms/step - loss: 0.4603 - accuracy: 0.7933 - val_loss: 0.4760 - val_accuracy: 0.7922\n",
      "Epoch 79/80\n",
      "72/72 [==============================] - 0s 1ms/step - loss: 0.4497 - accuracy: 0.7849 - val_loss: 0.4769 - val_accuracy: 0.7922\n",
      "Epoch 80/80\n",
      "72/72 [==============================] - 0s 1ms/step - loss: 0.4377 - accuracy: 0.7961 - val_loss: 0.4772 - val_accuracy: 0.7922\n"
     ]
    }
   ],
   "source": [
    "# Compile model\n",
    "model.compile(loss='binary_crossentropy', optimizer='adam', metrics=['accuracy'])\n",
    "\n",
    "# Fit the model\n",
    "\n",
    "history=model.fit(X_train, y_train, validation_split=0.3, epochs=80, batch_size=5)\n",
    "# calculate predictions"
   ]
  },
  {
   "cell_type": "code",
   "execution_count": 35,
   "metadata": {},
   "outputs": [
    {
     "data": {
      "image/png": "[encoded data removed]",
      "text/plain": [
       "<Figure size 432x288 with 1 Axes>"
      ]
     },
     "metadata": {
      "needs_background": "light"
     },
     "output_type": "display_data"
    },
    {
     "data": {
      "image/png": "[encoded data removed]",
      "text/plain": [
       "<Figure size 432x288 with 1 Axes>"
      ]
     },
     "metadata": {
      "needs_background": "light"
     },
     "output_type": "display_data"
    }
   ],
   "source": [
    "# Plot training & validation accuracy values\n",
    "import matplotlib.pyplot as plt\n",
    "plt.plot(history.history['accuracy'])\n",
    "plt.plot(history.history['val_accuracy'])\n",
    "plt.title('Model accuracy')\n",
    "plt.ylabel('Accuracy')\n",
    "plt.xlabel('Epoch')\n",
    "plt.legend(['Train', 'Val'], loc='upper left')\n",
    "plt.show()\n",
    "\n",
    "# Plot training & validation loss values\n",
    "plt.plot(history.history['loss'])\n",
    "plt.plot(history.history['val_loss'])\n",
    "plt.title('Model loss')\n",
    "plt.ylabel('Loss')\n",
    "plt.xlabel('Epoch')\n",
    "plt.legend(['Train', 'Val'], loc='upper left')\n",
    "plt.show()"
   ]
  },
  {
   "cell_type": "code",
   "execution_count": 38,
   "metadata": {},
   "outputs": [
    {
     "name": "stdout",
     "output_type": "stream",
     "text": [
      "[array([[-0.18096317, -0.15717867,  0.14665842,  0.14715624, -0.09594812,\n",
      "         0.23672731, -0.10688927, -0.15339132,  0.09704744, -0.06520409,\n",
      "         0.2595527 , -0.22627133],\n",
      "       [-0.32013047, -0.25174347, -0.31944364, -0.28347746, -0.34247497,\n",
      "         0.3491092 , -0.2457651 , -0.19553153,  0.34613538, -0.45395076,\n",
      "         0.27684712, -0.08639539],\n",
      "       [ 0.25738302,  0.12035106, -0.16992758, -0.18545663,  0.1563853 ,\n",
      "        -0.24731892,  0.19593285,  0.18565534, -0.12154912,  0.1365979 ,\n",
      "         0.14548479, -0.00637965],\n",
      "       [-0.17599991,  0.10257773, -0.22212532, -0.16312963,  0.03111505,\n",
      "        -0.1635916 , -0.1641546 , -0.01734938, -0.04582961, -0.02713607,\n",
      "         0.10003335, -0.03989425],\n",
      "       [-0.02277612, -0.01056812,  0.08915704,  0.04742735,  0.03378455,\n",
      "        -0.0769527 ,  0.03137077, -0.10870232, -0.003472  ,  0.14530227,\n",
      "         0.03901289, -0.06136831],\n",
      "       [-0.17994627, -0.13984112, -0.15148853, -0.18178943, -0.1031359 ,\n",
      "         0.10671853, -0.08232895, -0.0949449 ,  0.16273636, -0.0631922 ,\n",
      "         0.23129478, -0.14098515],\n",
      "       [ 0.06694024, -0.01331467, -0.3197698 , -0.39264837, -0.02349332,\n",
      "        -0.07643554, -0.27524844, -0.31457242, -0.10708897, -0.00127654,\n",
      "        -0.08392376, -0.4179465 ],\n",
      "       [-0.5899948 , -0.2285815 ,  0.16034614,  0.07836347, -0.30977947,\n",
      "        -0.1965014 , -0.49161088, -0.5450662 , -0.13675252, -0.32685283,\n",
      "         0.03570453, -0.35747594]], dtype=float32), array([0.02924788, 0.19002639, 0.27661195, 0.25988722, 0.24556106,\n",
      "       0.12825534, 0.03090599, 0.09725475, 0.39078408, 0.24519268,\n",
      "       0.1649185 , 0.0904473 ], dtype=float32)]\n",
      "[array([[ 0.4593648 ,  0.02480852,  0.40237546,  0.47008014, -0.18249722,\n",
      "         0.34844062, -0.26403344, -0.27486736],\n",
      "       [ 0.20837785, -0.02722435,  0.15275705,  0.16109535, -0.10596159,\n",
      "         0.24244381,  0.00388118, -0.00264407],\n",
      "       [ 0.34650072, -0.01544436,  0.38933113,  0.35842025, -0.15965797,\n",
      "         0.3904045 , -0.32600152, -0.31948948],\n",
      "       [ 0.3926868 ,  0.02039084,  0.37196127,  0.3274871 , -0.12206242,\n",
      "         0.35794228, -0.36567864, -0.26836738],\n",
      "       [ 0.31392896, -0.03563349,  0.25289047,  0.23320095, -0.17268115,\n",
      "         0.27963257, -0.07213999, -0.05288213],\n",
      "       [-0.24862614, -0.0162784 , -0.211437  , -0.19486569,  0.38795978,\n",
      "        -0.15613133,  0.42983216,  0.37812492],\n",
      "       [ 0.33373365, -0.02337352,  0.29833212,  0.33866644,  0.02501938,\n",
      "         0.19892623, -0.27891335, -0.22142617],\n",
      "       [ 0.3568756 , -0.02072756,  0.32171056,  0.33751014, -0.09989964,\n",
      "         0.22119123, -0.31373417, -0.26486683],\n",
      "       [-0.11348509, -0.05102077, -0.12192335, -0.17557535,  0.3920559 ,\n",
      "        -0.15225193,  0.44374162,  0.3485432 ],\n",
      "       [ 0.27488208, -0.03606043,  0.3321978 ,  0.33369988, -0.23746721,\n",
      "         0.23702589, -0.19452389, -0.15737389],\n",
      "       [-0.05432996, -0.01100789, -0.08084266, -0.07648797,  0.36636236,\n",
      "        -0.02160566,  0.41684186,  0.39414352],\n",
      "       [ 0.23320189, -0.02650824,  0.1515819 ,  0.19321792,  0.1594016 ,\n",
      "         0.15710618, -0.27915674, -0.28637764]], dtype=float32), array([ 0.06696121, -0.01547923,  0.10296454,  0.07361736,  0.25671762,\n",
      "        0.04857892,  0.21563007,  0.20645426], dtype=float32)]\n",
      "[]\n",
      "[array([[-0.35559872],\n",
      "       [ 0.02125674],\n",
      "       [-0.34195858],\n",
      "       [-0.36687577],\n",
      "       [ 0.39137515],\n",
      "       [-0.3778864 ],\n",
      "       [ 0.45886806],\n",
      "       [ 0.4291608 ]], dtype=float32), array([-0.0840443], dtype=float32)]\n"
     ]
    }
   ],
   "source": [
    "for layer in model.layers:\n",
    "    weights = layer.get_weights()\n",
    "    print(weights)"
   ]
  },
  {
   "cell_type": "code",
   "execution_count": 39,
   "metadata": {},
   "outputs": [],
   "source": [
    "predictions = model.predict(X_test)  \n",
    "p_labels = [round(x[0]) for x in predictions]\n"
   ]
  },
  {
   "cell_type": "code",
   "execution_count": 40,
   "metadata": {},
   "outputs": [
    {
     "name": "stdout",
     "output_type": "stream",
     "text": [
      "Accuracy 0.7578125\n",
      "[[141  26]\n",
      " [ 36  53]]\n",
      "              precision    recall  f1-score   support\n",
      "\n",
      "         0.0       0.80      0.84      0.82       167\n",
      "         1.0       0.67      0.60      0.63        89\n",
      "\n",
      "    accuracy                           0.76       256\n",
      "   macro avg       0.73      0.72      0.73       256\n",
      "weighted avg       0.75      0.76      0.75       256\n",
      "\n"
     ]
    }
   ],
   "source": [
    "print(\"Accuracy\", metrics.accuracy_score(y_test, p_labels))\n",
    "print(confusion_matrix(y_test,p_labels))  \n",
    "print(classification_report(y_test,p_labels))  "
   ]
  }
 ],
 "metadata": {
  "kernelspec": {
   "display_name": "Python 3",
   "language": "python",
   "name": "python3"
  },
  "language_info": {
   "codemirror_mode": {
    "name": "ipython",
    "version": 3
   },
   "file_extension": ".py",
   "mimetype": "text/x-python",
   "name": "python",
   "nbconvert_exporter": "python",
   "pygments_lexer": "ipython3",
   "version": "3.7.6"
  }
 },
 "nbformat": 4,
 "nbformat_minor": 4
}
