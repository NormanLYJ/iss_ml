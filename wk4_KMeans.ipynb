{
 "cells": [
  {
   "cell_type": "code",
   "execution_count": 198,
   "metadata": {},
   "outputs": [],
   "source": [
    "from sklearn.preprocessing import StandardScaler\n",
    "import numpy as np\n",
    "import pandas as pd\n",
    "import matplotlib.pyplot as plt\n",
    "from sklearn.decomposition import PCA\n",
    "from factor_analyzer import FactorAnalyzer\n",
    "from sklearn.preprocessing import StandardScaler"
   ]
  },
  {
   "cell_type": "code",
   "execution_count": 199,
   "metadata": {},
   "outputs": [
    {
     "name": "stdout",
     "output_type": "stream",
     "text": [
      "['price', 'bedrooms', 'bathrooms', 'sqft_living', 'sqft_lot', 'floors', 'condition', 'grade', 'sqft_above', 'sqft_basement', 'yr_built', 'lat', 'long', 'sqft_living15', 'sqft_lot15']\n"
     ]
    }
   ],
   "source": [
    "data = pd.read_csv(\"House_data.csv\")\n",
    "data= data.drop([\"id\", \"date\", \"waterfront\", \"view\", \"yr_renovated\", \"zipcode\", \"lat\", \"long\"],axis=1)\n",
    "colnames = list(data.columns.values)\n",
    "print(colnames)"
   ]
  },
  {
   "cell_type": "markdown",
   "metadata": {},
   "source": [
    "### apply normalization and PCA before KMeans"
   ]
  },
  {
   "cell_type": "code",
   "execution_count": 200,
   "metadata": {},
   "outputs": [
    {
     "name": "stdout",
     "output_type": "stream",
     "text": [
      "                 PC1    PC2    PC3    PC4    PC5    PC6    PC7    PC8\n",
      "price          0.301  0.302  0.021 -0.288 -0.131 -0.004 -0.221  0.005\n",
      "bedrooms       0.242  0.179  0.016  0.385  0.091  0.114  0.595  0.482\n",
      "bathrooms      0.358  0.032 -0.091  0.134  0.140  0.138  0.169 -0.260\n",
      "sqft_living    0.395  0.159  0.064  0.084  0.028  0.013 -0.081  0.068\n",
      "sqft_lot       0.092 -0.211  0.593 -0.207  0.120  0.196  0.097 -0.022\n",
      "floors         0.230 -0.245 -0.318 -0.196 -0.106  0.423  0.255 -0.198\n",
      "condition     -0.075  0.322  0.237  0.214 -0.705  0.121  0.200 -0.452\n",
      "grade          0.369  0.038 -0.072 -0.125 -0.055  0.015 -0.244 -0.111\n",
      "sqft_above     0.386 -0.079 -0.028 -0.035 -0.237  0.075 -0.059  0.262\n",
      "sqft_basement  0.098  0.479  0.185  0.240  0.502 -0.115 -0.056 -0.348\n",
      "yr_built       0.223 -0.392 -0.204  0.149  0.208 -0.097  0.069 -0.468\n",
      "lat            0.029  0.277 -0.114 -0.664  0.062 -0.378  0.500 -0.073\n",
      "long           0.154 -0.355  0.154  0.205 -0.215 -0.699  0.180 -0.045\n",
      "sqft_living15  0.349  0.046  0.056  0.005 -0.132 -0.238 -0.299  0.149\n",
      "sqft_lot15     0.097 -0.218  0.597 -0.193  0.102  0.138  0.073 -0.034 \n",
      "\n",
      "[5.49082678 2.03029801 1.78581232 1.1505225  0.86223563 0.79156958\n",
      " 0.67669562 0.62334637]\n",
      "                  PC1     PC2     PC3     PC4     PC5     PC6     PC7     PC8\n",
      "price          0.7053  0.4303  0.0281 -0.3089 -0.1216 -0.0036 -0.1818  0.0039\n",
      "bedrooms       0.5671  0.2551  0.0214  0.4130  0.0845  0.1014  0.4895  0.3806\n",
      "bathrooms      0.8389  0.0456 -0.1216  0.1437  0.1300  0.1228  0.1390 -0.2053\n",
      "sqft_living    0.9256  0.2266  0.0855  0.0901  0.0260  0.0116 -0.0666  0.0537\n",
      "sqft_lot       0.2156 -0.3007  0.7925 -0.2220  0.1114  0.1744  0.0798 -0.0174\n",
      "floors         0.5389 -0.3491 -0.4250 -0.2102 -0.0984  0.3763  0.2098 -0.1563\n",
      "condition     -0.1757  0.4588  0.3167  0.2295 -0.6546  0.1077  0.1645 -0.3569\n",
      "grade          0.8647  0.0541 -0.0962 -0.1341 -0.0511  0.0133 -0.2007 -0.0876\n",
      "sqft_above     0.9045 -0.1126 -0.0374 -0.0375 -0.2201  0.0667 -0.0485  0.2069\n",
      "sqft_basement  0.2296  0.6825  0.2472  0.2574  0.4661 -0.1023 -0.0461 -0.2748\n",
      "yr_built       0.5225 -0.5586 -0.2726  0.1598  0.1931 -0.0863  0.0568 -0.3695\n",
      "lat            0.0680  0.3947 -0.1523 -0.7122  0.0576 -0.3363  0.4113 -0.0576\n",
      "long           0.3609 -0.5058  0.2058  0.2199 -0.1996 -0.6219  0.1481 -0.0355\n",
      "sqft_living15  0.8178  0.0655  0.0748  0.0054 -0.1226 -0.2117 -0.2460  0.1176\n",
      "sqft_lot15     0.2273 -0.3106  0.7978 -0.2070  0.0947  0.1228  0.0601 -0.0268 \n",
      "\n",
      "Eigenvalues                      : [5.491 2.03  1.786 1.151 0.862 0.792 0.677 0.623]\n",
      "Eigenvalues (%Explained_Variance): [36.6  13.53 11.9   7.67  5.75  5.28  4.51  4.16]\n",
      "Eigenvalues (%Cumulative)        : [36.6  50.13 62.03 69.7  75.45 80.73 85.24 89.4 ]\n"
     ]
    },
    {
     "data": {
      "image/png": "[encoded data removed]",
      "text/plain": [
       "<Figure size 432x288 with 1 Axes>"
      ]
     },
     "metadata": {},
     "output_type": "display_data"
    }
   ],
   "source": [
    "scaler = StandardScaler()\n",
    "data_std = scaler.fit_transform(data) \n",
    "# data_std[0:2]\n",
    "n_components = 8\n",
    "pca = PCA(n_components).fit(data_std)  # fit in standarized data\n",
    "PCs=[]\n",
    "for l in range(1,n_components+1):\n",
    "    PCs.append(\"PC\"+str(l))\n",
    "\n",
    "eigenvectors = np.round(pca.components_.transpose(),decimals=3)\n",
    "eigenvalues = pca.explained_variance_\n",
    "print(pd.DataFrame(eigenvectors,index=colnames,columns=PCs),'\\n')\n",
    "print(eigenvalues)\n",
    "loadings= np.sqrt(eigenvalues)*eigenvectors\n",
    "print(pd.DataFrame(np.round(loadings,decimals=4),index=colnames,columns=PCs),'\\n')\n",
    "expln_variance_ratio = np.round(pca.explained_variance_ratio_ * 100,decimals=2)  # \n",
    "eigval = -np.sort(-eigenvalues) #'-'=descending\n",
    "\n",
    "npc = n_components # display\n",
    "print(\"Eigenvalues                      :\",np.round(eigval[0:npc],decimals=3))\n",
    "print(\"Eigenvalues (%Explained_Variance):\",expln_variance_ratio[0:npc])\n",
    "print(\"Eigenvalues (%Cumulative)        :\",np.cumsum(expln_variance_ratio[0:npc]))\n",
    "\n",
    "plt.style.use('seaborn-whitegrid')\n",
    "cumulative_var = np.cumsum(expln_variance_ratio)\n",
    "plt.plot(cumulative_var,'k-o',markerfacecolor='None',markeredgecolor='k')\n",
    "plt.title('Principal Component Analysis',fontsize=12)\n",
    "plt.xlabel(\"Principal Component\",fontsize=12)\n",
    "plt.ylabel(\"Cumulative Proportion of Variance Explained\",fontsize=12)\n",
    "plt.show()\n"
   ]
  },
  {
   "cell_type": "markdown",
   "metadata": {},
   "source": [
    "## PC1 charactered by large overall size and number of rooms\n",
    "## PC2 charactered by large sqft_basement and relatively yong age and good condition\n",
    "## PC3 charactered by sqft_lot and sqft_lot15\n",
    "etc"
   ]
  },
  {
   "cell_type": "code",
   "execution_count": 201,
   "metadata": {},
   "outputs": [
    {
     "name": "stdout",
     "output_type": "stream",
     "text": [
      "[[-2.53368154 -0.50523837 -0.11447629 ... -0.16095267 -0.38106876\n",
      "   0.84509416]\n",
      " [ 0.01534356  0.56066586 -0.72062231 ...  0.49206167  0.45518068\n",
      "   0.20875477]\n",
      " [-2.88106551 -0.05644537  0.13208589 ... -1.45119915 -0.50993907\n",
      "   0.77917113]\n",
      " ...\n",
      " [-2.28442963 -1.4442232  -1.34358708 ...  0.31081445 -0.19308383\n",
      "  -0.96931687]\n",
      " [ 0.01889485 -1.71100102 -1.20699142 ... -0.27597063  0.42792912\n",
      "  -0.78664405]\n",
      " [-2.35824848 -1.4882687  -1.35895583 ...  0.31114856 -0.1524499\n",
      "  -0.95336458]]\n"
     ]
    }
   ],
   "source": [
    "new_data = pca.transform(data_std) # used for downstream analytics\n",
    "print(new_data)"
   ]
  },
  {
   "cell_type": "code",
   "execution_count": 181,
   "metadata": {},
   "outputs": [],
   "source": [
    "# data.hist(alpha=0.5, bins = 10, color='blue', figsize=(8, 8))\n",
    "# plt.tight_layout()\n",
    "# plt.show()"
   ]
  },
  {
   "cell_type": "code",
   "execution_count": 182,
   "metadata": {},
   "outputs": [],
   "source": [
    "from sklearn.cluster import KMeans\n",
    "from sklearn.metrics import silhouette_samples, silhouette_score"
   ]
  },
  {
   "cell_type": "markdown",
   "metadata": {},
   "source": [
    "### looping for number of clusters"
   ]
  },
  {
   "cell_type": "code",
   "execution_count": 183,
   "metadata": {},
   "outputs": [
    {
     "name": "stdout",
     "output_type": "stream",
     "text": [
      "No Clusters = 2  Silhouette =  0.30048181102175775\n",
      "No Clusters = 3  Silhouette =  0.23515475249940127\n",
      "No Clusters = 4  Silhouette =  0.2517285415118283\n",
      "No Clusters = 5  Silhouette =  0.26473549281014935\n",
      "No Clusters = 6  Silhouette =  0.24274724025819147\n",
      "No Clusters = 7  Silhouette =  0.21878192482956899\n",
      "No Clusters = 8  Silhouette =  0.2059697524897487\n",
      "No Clusters = 9  Silhouette =  0.19430386226093418\n",
      "{2: 187725.78114923465, 3: 161370.39252336946, 4: 141332.95856881354, 5: 119115.15395412757, 6: 109293.44071361782, 7: 101536.93128124264, 8: 96516.16408185007, 9: 92057.52747094844}\n"
     ]
    }
   ],
   "source": [
    "min_clusters = 2\n",
    "max_clusters = 10\n",
    "sse = {}\n",
    "for i in range (min_clusters, max_clusters):\n",
    "    kmeans = KMeans(i,init=\"k-means++\", n_init = 10, max_iter= 100)\n",
    "    kmeans.fit(new_data) \n",
    "    predicted = kmeans.predict(new_data)\n",
    "    \n",
    "    goodness = silhouette_score(new_data,predicted)\n",
    "    print(\"No Clusters =\", i,\" Silhouette = \",goodness)\n",
    "    sse[i] = kmeans.inertia_\n",
    "print(sse)"
   ]
  },
  {
   "cell_type": "code",
   "execution_count": 184,
   "metadata": {},
   "outputs": [
    {
     "data": {
      "text/plain": [
       "[<matplotlib.lines.Line2D at 0x1a1ceb0390>]"
      ]
     },
     "execution_count": 184,
     "metadata": {},
     "output_type": "execute_result"
    },
    {
     "data": {
      "image/png": "[encoded data removed]",
      "text/plain": [
       "<Figure size 432x288 with 1 Axes>"
      ]
     },
     "metadata": {},
     "output_type": "display_data"
    }
   ],
   "source": [
    "plt.figure()\n",
    "keys = list(sse.keys())\n",
    "vals = list(sse.values())\n",
    "            \n",
    "plt.plot(keys, vals)"
   ]
  },
  {
   "cell_type": "markdown",
   "metadata": {},
   "source": [
    "### choosing cluster as 5 using following Elbow method"
   ]
  },
  {
   "cell_type": "code",
   "execution_count": 188,
   "metadata": {},
   "outputs": [
    {
     "data": {
      "text/plain": [
       "KMeans(algorithm='auto', copy_x=True, init='k-means++', max_iter=100,\n",
       "       n_clusters=5, n_init=10, n_jobs=None, precompute_distances='auto',\n",
       "       random_state=None, tol=0.0001, verbose=0)"
      ]
     },
     "execution_count": 188,
     "metadata": {},
     "output_type": "execute_result"
    }
   ],
   "source": [
    "clusters = 5\n",
    "kmeans = KMeans(clusters, init='k-means++', n_init = 10, max_iter= 100)\n",
    "kmeans.fit(new_data)"
   ]
  },
  {
   "cell_type": "code",
   "execution_count": 189,
   "metadata": {},
   "outputs": [
    {
     "name": "stdout",
     "output_type": "stream",
     "text": [
      "           PC1    PC2    PC3    PC4    PC5    PC6    PC7    PC8\n",
      "Cluster                                                        \n",
      "0        2.314  1.740  8.247  0.513  0.412 -0.269  0.666 -0.146\n",
      "1        0.039  1.487 -0.520  0.501  0.156 -0.129 -0.037 -0.065\n",
      "2       -2.132  0.100  0.114 -0.245 -0.213  0.221 -0.082  0.094\n",
      "3        4.318  0.150 -0.312 -0.477 -0.376  0.199 -0.119  0.048\n",
      "4        0.757 -1.419 -0.050  0.096  0.281 -0.247  0.145 -0.081\n"
     ]
    }
   ],
   "source": [
    "temp = pd.DataFrame(new_data,columns=PCs)\n",
    "\n",
    "temp[\"Cluster\"] = kmeans.predict(new_data)  # add Cluster column to the data\n",
    "# find number of members in each cluster\n",
    "count = temp.groupby('Cluster')['Cluster'].count()\n",
    "\n",
    "# aggregate to cluster averages\n",
    "cluster_means = np.round(temp.groupby(['Cluster']).mean(),decimals=3)\n",
    "print(cluster_means)"
   ]
  },
  {
   "cell_type": "code",
   "execution_count": 190,
   "metadata": {},
   "outputs": [
    {
     "name": "stdout",
     "output_type": "stream",
     "text": [
      "[[ 2.314e+00  3.900e-02 -2.132e+00  4.318e+00  7.570e-01]\n",
      " [ 1.740e+00  1.487e+00  1.000e-01  1.500e-01 -1.419e+00]\n",
      " [ 8.247e+00 -5.200e-01  1.140e-01 -3.120e-01 -5.000e-02]\n",
      " [ 5.130e-01  5.010e-01 -2.450e-01 -4.770e-01  9.600e-02]\n",
      " [ 4.120e-01  1.560e-01 -2.130e-01 -3.760e-01  2.810e-01]\n",
      " [-2.690e-01 -1.290e-01  2.210e-01  1.990e-01 -2.470e-01]\n",
      " [ 6.660e-01 -3.700e-02 -8.200e-02 -1.190e-01  1.450e-01]\n",
      " [-1.460e-01 -6.500e-02  9.400e-02  4.800e-02 -8.100e-02]\n",
      " [ 3.250e+02  4.745e+03  7.803e+03  2.551e+03  6.189e+03]]\n"
     ]
    }
   ],
   "source": [
    "cluster_means['Count'] = count\n",
    "arr = np.transpose(cluster_means.to_numpy())\n",
    "print(arr)"
   ]
  },
  {
   "cell_type": "code",
   "execution_count": 192,
   "metadata": {},
   "outputs": [
    {
     "data": {
      "image/png": "[encoded data removed]",
      "text/plain": [
       "<Figure size 432x288 with 1 Axes>"
      ]
     },
     "metadata": {},
     "output_type": "display_data"
    }
   ],
   "source": [
    "plt.figure()\n",
    "bar_width = 0.1\n",
    "index = np.arange(clusters)\n",
    "rects1 = plt.bar(index, arr[0], bar_width,color='lightcoral',label='PC1')\n",
    "rects2 = plt.bar(index + 1 * bar_width, arr[1], bar_width,color='forestgreen',label='PC2')\n",
    "rects3 = plt.bar(index + 2 * bar_width, arr[2], bar_width,color='royalblue',label='PC3')\n",
    "rects4 = plt.bar(index + 3 * bar_width, arr[3], bar_width,color='yellow',label='PC4')\n",
    "rects5 = plt.bar(index + 4 * bar_width, arr[4], bar_width,color='pink',label='PC5')\n",
    "rects6 = plt.bar(index + 5 * bar_width, arr[5], bar_width,color='darkorange',label='PC6')\n",
    "rects7 = plt.bar(index + 6 * bar_width, arr[6], bar_width,color='cyan',label='PC7')\n",
    "rects8 = plt.bar(index + 7 * bar_width, arr[7], bar_width,color='darkviolet',label='PC8')\n",
    "\n",
    "plt.xlabel('Cluster')\n",
    "plt.ylabel('Value')\n",
    "plt.title('Cluster plot')\n",
    "plt.xticks(index + bar_width, ('0', '1', '2', '3', '4'))\n",
    "plt.legend()\n",
    "plt.tight_layout()\n",
    "plt.show()\n",
    "\n",
    "\n"
   ]
  },
  {
   "cell_type": "markdown",
   "metadata": {},
   "source": [
    "### Conclusion\n",
    "### cluster 0 feature by very large value of PC3, which is large sqft_lot and sqft_lot15\n",
    "### Cluster 1 fearure by slightly high PC2, which is yong house age and good condition\n",
    "### Cluster 2 fearure by small PC1, which is the overall size and number of rooms\n",
    "### Cluster 3, opposed to cluster 2, features by large value of PC1\n",
    "### Cluster 4, oppsing to cluster 1, fearure by and older house age and lower house condition\n",
    "\n",
    "### The order of the clusters are random, so you may see clusters in a different sequence\n",
    "\n"
   ]
  },
  {
   "cell_type": "code",
   "execution_count": 193,
   "metadata": {},
   "outputs": [],
   "source": [
    "from sklearn.model_selection import train_test_split\n",
    "ds1, ds2= train_test_split(new_data,test_size=1/2,random_state=42)  # split into 2 set, on the new data after PCA"
   ]
  },
  {
   "cell_type": "markdown",
   "metadata": {},
   "source": [
    "### Cross validation\n",
    "fit 2 dataset into  KMeans separately"
   ]
  },
  {
   "cell_type": "code",
   "execution_count": 195,
   "metadata": {},
   "outputs": [
    {
     "data": {
      "image/png": "[encoded data removed]",
      "text/plain": [
       "<Figure size 720x576 with 1 Axes>"
      ]
     },
     "metadata": {},
     "output_type": "display_data"
    },
    {
     "data": {
      "image/png": "[encoded data removed]",
      "text/plain": [
       "<Figure size 720x576 with 1 Axes>"
      ]
     },
     "metadata": {},
     "output_type": "display_data"
    }
   ],
   "source": [
    "\n",
    "kmeans1 = KMeans(clusters, init='k-means++', n_init = 10, max_iter= 100)\n",
    "kmeans1.fit(ds1)\n",
    "temp1 = pd.DataFrame(ds1,columns=PCs)\n",
    "\n",
    "temp1[\"Cluster\"] = kmeans1.predict(ds1)  # add Cluster column to the data\n",
    "# find number of members in each cluster\n",
    "count1 = temp1.groupby('Cluster')['Cluster'].count()\n",
    "\n",
    "# aggregate to cluster averages\n",
    "cluster_means1 = np.round(temp1.groupby(['Cluster']).mean(),decimals=3)\n",
    "\n",
    "cluster_means1['Count'] = count1\n",
    "arr1 = np.transpose(cluster_means1.to_numpy())\n",
    "\n",
    "\n",
    "plt.figure(figsize=(10,8))\n",
    "plt.subplot(2, 1, 1)\n",
    "bar_width = 0.1\n",
    "index = np.arange(clusters)\n",
    "rects1 = plt.bar(index, arr[0], bar_width,color='lightcoral',label='PC1')\n",
    "rects2 = plt.bar(index + 1 * bar_width, arr1[1], bar_width,color='forestgreen',label='PC2')\n",
    "rects3 = plt.bar(index + 2 * bar_width, arr1[2], bar_width,color='royalblue',label='PC3')\n",
    "rects4 = plt.bar(index + 3 * bar_width, arr1[3], bar_width,color='yellow',label='PC4')\n",
    "rects5 = plt.bar(index + 4 * bar_width, arr1[4], bar_width,color='pink',label='PC5')\n",
    "rects6 = plt.bar(index + 5 * bar_width, arr1[5], bar_width,color='darkorange',label='PC6')\n",
    "rects7 = plt.bar(index + 6 * bar_width, arr1[6], bar_width,color='cyan',label='PC7')\n",
    "rects8 = plt.bar(index + 7 * bar_width, arr1[7], bar_width,color='darkviolet',label='PC8')\n",
    "\n",
    "plt.xlabel('First dataset')\n",
    "plt.ylabel('Value')\n",
    "plt.title('Cluster plot')\n",
    "plt.xticks(index + bar_width, ('0', '1', '2', '3', '4'))\n",
    "plt.legend()\n",
    "plt.tight_layout()\n",
    "plt.show()\n",
    "\n",
    "kmeans2 = KMeans(clusters, init='k-means++', n_init = 10, max_iter= 100)\n",
    "kmeans2.fit(ds2)\n",
    "temp2 = pd.DataFrame(ds2,columns=PCs)\n",
    "\n",
    "temp2[\"Cluster\"] = kmeans2.predict(ds2)  # add Cluster column to the data\n",
    "# find number of members in each cluster\n",
    "count2 = temp2.groupby('Cluster')['Cluster'].count()\n",
    "\n",
    "# aggregate to cluster averages\n",
    "cluster_means2 = np.round(temp2.groupby(['Cluster']).mean(),decimals=3)\n",
    "\n",
    "cluster_means2['Count'] = count2\n",
    "arr2 = np.transpose(cluster_means2.to_numpy())\n",
    "\n",
    "plt.figure(figsize=(10,8))\n",
    "plt.subplot(2, 1, 2)\n",
    "bar_width = 0.1\n",
    "index = np.arange(clusters)\n",
    "rects1 = plt.bar(index, arr[0], bar_width,color='lightcoral',label='PC1')\n",
    "rects2 = plt.bar(index + 1 * bar_width, arr2[1], bar_width,color='forestgreen',label='PC2')\n",
    "rects3 = plt.bar(index + 2 * bar_width, arr2[2], bar_width,color='royalblue',label='PC3')\n",
    "rects4 = plt.bar(index + 3 * bar_width, arr2[3], bar_width,color='yellow',label='PC4')\n",
    "rects5 = plt.bar(index + 4 * bar_width, arr2[4], bar_width,color='pink',label='PC5')\n",
    "rects6 = plt.bar(index + 5 * bar_width, arr2[5], bar_width,color='darkorange',label='PC6')\n",
    "rects7 = plt.bar(index + 6 * bar_width, arr2[6], bar_width,color='cyan',label='PC7')\n",
    "rects8 = plt.bar(index + 7 * bar_width, arr2[7], bar_width,color='darkviolet',label='PC8')\n",
    "\n",
    "plt.xlabel('Second dataset')\n",
    "plt.ylabel('Value')\n",
    "plt.title('Cluster plot')\n",
    "plt.xticks(index + bar_width, ('0', '1', '2', '3', '4'))\n",
    "plt.legend()\n",
    "plt.tight_layout()\n",
    "plt.show()\n"
   ]
  },
  {
   "cell_type": "markdown",
   "metadata": {},
   "source": [
    "### Conclusion:\n",
    "we can see very similar cluster getting created for the 2 dataset\n",
    "but each run may generate clusters slightly differently"
   ]
  },
  {
   "cell_type": "markdown",
   "metadata": {},
   "source": [
    "### development and Validation\n",
    "apply model from first Kmeans on 2nd dataset"
   ]
  },
  {
   "cell_type": "code",
   "execution_count": 196,
   "metadata": {},
   "outputs": [
    {
     "data": {
      "image/png": "[encoded data removed]",
      "text/plain": [
       "<Figure size 720x576 with 1 Axes>"
      ]
     },
     "metadata": {},
     "output_type": "display_data"
    },
    {
     "data": {
      "image/png": "[encoded data removed]",
      "text/plain": [
       "<Figure size 720x576 with 1 Axes>"
      ]
     },
     "metadata": {},
     "output_type": "display_data"
    }
   ],
   "source": [
    "\n",
    "temp2 = pd.DataFrame(ds2,columns=PCs)\n",
    "temp2[\"Cluster\"] = kmeans1.predict(ds2)  # add Cluster column to the data\n",
    "# find number of members in each cluster\n",
    "count2 = temp2.groupby('Cluster')['Cluster'].count()\n",
    "\n",
    "# aggregate to cluster averages\n",
    "cluster_means2 = np.round(temp2.groupby(['Cluster']).mean(),decimals=3)\n",
    "\n",
    "cluster_means2['Count'] = count2\n",
    "arr2 = np.transpose(cluster_means2.to_numpy())\n",
    "\n",
    "\n",
    "# First model\n",
    "plt.figure(figsize=(10,8))\n",
    "plt.subplot(2, 1, 1)\n",
    "bar_width = 0.1\n",
    "index = np.arange(clusters)\n",
    "rects1 = plt.bar(index, arr[0], bar_width,color='lightcoral',label='PC1')\n",
    "rects2 = plt.bar(index + 1 * bar_width, arr1[1], bar_width,color='forestgreen',label='PC2')\n",
    "rects3 = plt.bar(index + 2 * bar_width, arr1[2], bar_width,color='royalblue',label='PC3')\n",
    "rects4 = plt.bar(index + 3 * bar_width, arr1[3], bar_width,color='yellow',label='PC4')\n",
    "rects5 = plt.bar(index + 4 * bar_width, arr1[4], bar_width,color='pink',label='PC5')\n",
    "rects6 = plt.bar(index + 5 * bar_width, arr1[5], bar_width,color='darkorange',label='PC6')\n",
    "rects7 = plt.bar(index + 6 * bar_width, arr1[6], bar_width,color='cyan',label='PC7')\n",
    "rects8 = plt.bar(index + 7 * bar_width, arr1[7], bar_width,color='darkviolet',label='PC8')\n",
    "\n",
    "plt.xlabel('First dataset')\n",
    "plt.ylabel('Value')\n",
    "plt.title('Cluster plot')\n",
    "plt.xticks(index + bar_width, ('0', '1', '2', '3', '4'))\n",
    "plt.legend()\n",
    "plt.tight_layout()\n",
    "plt.show()\n",
    "\n",
    "# Second model\n",
    "plt.figure(figsize=(10,8))\n",
    "plt.subplot(2, 1, 2)\n",
    "bar_width = 0.1\n",
    "index = np.arange(clusters)\n",
    "rects1 = plt.bar(index, arr[0], bar_width,color='lightcoral',label='PC1')\n",
    "rects2 = plt.bar(index + 1 * bar_width, arr2[1], bar_width,color='forestgreen',label='PC2')\n",
    "rects3 = plt.bar(index + 2 * bar_width, arr2[2], bar_width,color='royalblue',label='PC3')\n",
    "rects4 = plt.bar(index + 3 * bar_width, arr2[3], bar_width,color='yellow',label='PC4')\n",
    "rects5 = plt.bar(index + 4 * bar_width, arr2[4], bar_width,color='pink',label='PC5')\n",
    "rects6 = plt.bar(index + 5 * bar_width, arr2[5], bar_width,color='darkorange',label='PC6')\n",
    "rects7 = plt.bar(index + 6 * bar_width, arr2[6], bar_width,color='cyan',label='PC7')\n",
    "rects8 = plt.bar(index + 7 * bar_width, arr2[7], bar_width,color='darkviolet',label='PC8')\n",
    "\n",
    "plt.xlabel('Second Dataset')\n",
    "plt.ylabel('Value')\n",
    "plt.title('Cluster plot')\n",
    "plt.xticks(index + bar_width, ('0', '1', '2', '3', '4'))\n",
    "plt.legend()\n",
    "plt.tight_layout()\n",
    "plt.show()"
   ]
  },
  {
   "cell_type": "markdown",
   "metadata": {},
   "source": [
    "### Conclusion\n",
    "For this case the 2 dataset generate much more similar clusters, as compared to the cross-validation case"
   ]
  },
  {
   "cell_type": "code",
   "execution_count": null,
   "metadata": {},
   "outputs": [],
   "source": []
  }
 ],
 "metadata": {
  "kernelspec": {
   "display_name": "Python 3",
   "language": "python",
   "name": "python3"
  },
  "language_info": {
   "codemirror_mode": {
    "name": "ipython",
    "version": 3
   },
   "file_extension": ".py",
   "mimetype": "text/x-python",
   "name": "python",
   "nbconvert_exporter": "python",
   "pygments_lexer": "ipython3",
   "version": "3.7.6"
  }
 },
 "nbformat": 4,
 "nbformat_minor": 4
}
